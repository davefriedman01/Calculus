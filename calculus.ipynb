{
 "cells": [
  {
   "cell_type": "markdown",
   "metadata": {},
   "source": [
    "# Definition of the Limit"
   ]
  },
  {
   "cell_type": "markdown",
   "metadata": {},
   "source": [
    "$f'(x)\\equiv\\lim_{x\\to0}\\frac{f(x + h) - f(x)}{h}$"
   ]
  },
  {
   "cell_type": "code",
   "execution_count": 1,
   "metadata": {},
   "outputs": [],
   "source": [
    "import numpy as np\n",
    "\n",
    "import matplotlib\n",
    "matplotlib.rcParams['text.usetex'] = True\n",
    "import matplotlib.pyplot as plt\n",
    "#%matplotlib inline\n",
    "%matplotlib widget\n",
    "\n",
    "from sympy import *\n",
    "init_printing()"
   ]
  },
  {
   "cell_type": "markdown",
   "metadata": {},
   "source": [
    "# $f(x)=x\\sin(\\frac{1}{x})$\n",
    ">$f'(x)=\\sin(\\frac{1}{x})-\\frac{\\cos(\\frac{1}{x})}{x}$"
   ]
  },
  {
   "cell_type": "code",
   "execution_count": 3,
   "metadata": {
    "scrolled": false
   },
   "outputs": [
    {
     "data": {
      "application/vnd.jupyter.widget-view+json": {
       "model_id": "29ea117f69ed4cbc8fbb34e6489061ae",
       "version_major": 2,
       "version_minor": 0
      },
      "text/plain": [
       "Canvas(toolbar=Toolbar(toolitems=[('Home', 'Reset original view', 'home', 'home'), ('Back', 'Back to previous …"
      ]
     },
     "metadata": {},
     "output_type": "display_data"
    }
   ],
   "source": [
    "x = np.linspace(-np.pi, np.pi, 10000)\n",
    "\n",
    "y1 = np.abs(x)\n",
    "y2 = x*np.sin(1/x)\n",
    "y3 = -np.abs(x)\n",
    "\n",
    "fig = plt.figure()\n",
    "plt.plot(x, y1, 'r', label=r'$f(x)=|x|$')\n",
    "plt.plot(x, y2, 'b', label=r'$f(x)=x\\sin(\\frac{1}{x})$')\n",
    "plt.plot(x, y3, 'g', label=r'$f(x)=-|x|$')\n",
    "plt.xlim(-0.5, 0.5)\n",
    "plt.ylim(-0.5, 0.5)\n",
    "plt.legend(loc='lower right', title='', frameon=True);"
   ]
  },
  {
   "cell_type": "code",
   "execution_count": 4,
   "metadata": {},
   "outputs": [
    {
     "data": {
      "image/png": "[encoded data removed]",
      "text/latex": [
       "$\\displaystyle \\sin{\\left(\\frac{1}{x} \\right)} - \\frac{\\cos{\\left(\\frac{1}{x} \\right)}}{x}$"
      ],
      "text/plain": [
       "            ⎛1⎞\n",
       "         cos⎜─⎟\n",
       "   ⎛1⎞      ⎝x⎠\n",
       "sin⎜─⎟ - ──────\n",
       "   ⎝x⎠     x   "
      ]
     },
     "execution_count": 4,
     "metadata": {},
     "output_type": "execute_result"
    }
   ],
   "source": [
    "# verify the derivative with sympy\n",
    "\n",
    "x = symbols('x')\n",
    "y = x * sin(1/x)\n",
    "dy = Derivative(y, x).doit()\n",
    "dy"
   ]
  },
  {
   "cell_type": "code",
   "execution_count": 21,
   "metadata": {},
   "outputs": [
    {
     "data": {
      "application/vnd.jupyter.widget-view+json": {
       "model_id": "4f1e4bbcad3844a0a4b044c0451602ae",
       "version_major": 2,
       "version_minor": 0
      },
      "text/plain": [
       "Canvas(toolbar=Toolbar(toolitems=[('Home', 'Reset original view', 'home', 'home'), ('Back', 'Back to previous …"
      ]
     },
     "metadata": {},
     "output_type": "display_data"
    }
   ],
   "source": [
    "# graph the function and its derivative\n",
    "# the function is vertically stretched by a factor of 10\n",
    "\n",
    "x = np.linspace(-np.pi, np.pi, 10000)\n",
    "\n",
    "y1 = x*np.sin(1/x)\n",
    "y2 = np.sin(1/x) - np.cos(1/x)/x\n",
    "\n",
    "fig = plt.figure()\n",
    "plt.plot(x, 10*y1, 'b', label=r'$f(x)=x\\sin(\\frac{1}{x})$')\n",
    "plt.plot(x, y2, 'g', label=r\"$f'(x)=\\sin(\\frac{1}{x})-\\frac{\\cos(\\frac{1}{x})}{x}$\")\n",
    "plt.xlim(-0.5, 0.5)\n",
    "plt.ylim(-10, 10)\n",
    "plt.legend(loc='lower right', title='', frameon=True);"
   ]
  },
  {
   "cell_type": "markdown",
   "metadata": {},
   "source": [
    "***"
   ]
  },
  {
   "cell_type": "markdown",
   "metadata": {},
   "source": [
    "# $f(x)=x^2\\sin(\\frac{1}{x})$\n",
    ">$f'(x)=2x\\sin(\\frac{1}{x})-\\cos(\\frac{1}{x})$"
   ]
  },
  {
   "cell_type": "code",
   "execution_count": 7,
   "metadata": {},
   "outputs": [
    {
     "data": {
      "application/vnd.jupyter.widget-view+json": {
       "model_id": "361a04cb903c4cbabb3ece6642ff3e38",
       "version_major": 2,
       "version_minor": 0
      },
      "text/plain": [
       "Canvas(toolbar=Toolbar(toolitems=[('Home', 'Reset original view', 'home', 'home'), ('Back', 'Back to previous …"
      ]
     },
     "metadata": {},
     "output_type": "display_data"
    }
   ],
   "source": [
    "x = np.linspace(-np.pi, np.pi, 10000)\n",
    "\n",
    "y1 = x**2\n",
    "y2 = x**2*np.sin(1/x)\n",
    "y3 = -x**2\n",
    "\n",
    "fig = plt.figure()\n",
    "plt.plot(x, y1, 'r', label=r'$f(x)=x^2$')\n",
    "plt.plot(x, y2, 'b', label=r'$f(x)=x^2\\sin(\\frac{1}{x})$')\n",
    "plt.plot(x, y3, 'g', label=r'$f(x)=-x^2$')\n",
    "plt.xlim(-0.5, 0.5)\n",
    "plt.ylim(-0.25, 0.25)\n",
    "plt.legend(loc='lower right', title='', frameon=True);"
   ]
  },
  {
   "cell_type": "code",
   "execution_count": 10,
   "metadata": {},
   "outputs": [
    {
     "data": {
      "image/png": "[encoded data removed]",
      "text/latex": [
       "$\\displaystyle 2 x \\sin{\\left(\\frac{1}{x} \\right)} - \\cos{\\left(\\frac{1}{x} \\right)}$"
      ],
      "text/plain": [
       "       ⎛1⎞      ⎛1⎞\n",
       "2⋅x⋅sin⎜─⎟ - cos⎜─⎟\n",
       "       ⎝x⎠      ⎝x⎠"
      ]
     },
     "execution_count": 10,
     "metadata": {},
     "output_type": "execute_result"
    }
   ],
   "source": [
    "# verify the derivative with sympy\n",
    "\n",
    "x = symbols('x')\n",
    "y = x**2 * sin(1/x)\n",
    "dy = Derivative(y, x).doit()\n",
    "dy"
   ]
  },
  {
   "cell_type": "code",
   "execution_count": 22,
   "metadata": {},
   "outputs": [
    {
     "name": "stderr",
     "output_type": "stream",
     "text": [
      "<ipython-input-22-b0ce83e5199d>:8: RuntimeWarning: More than 20 figures have been opened. Figures created through the pyplot interface (`matplotlib.pyplot.figure`) are retained until explicitly closed and may consume too much memory. (To control this warning, see the rcParam `figure.max_open_warning`).\n",
      "  fig = plt.figure()\n"
     ]
    },
    {
     "data": {
      "application/vnd.jupyter.widget-view+json": {
       "model_id": "2ca0a370b389407dad06ef39fac3667d",
       "version_major": 2,
       "version_minor": 0
      },
      "text/plain": [
       "Canvas(toolbar=Toolbar(toolitems=[('Home', 'Reset original view', 'home', 'home'), ('Back', 'Back to previous …"
      ]
     },
     "metadata": {},
     "output_type": "display_data"
    }
   ],
   "source": [
    "# graph the function and its derivative\n",
    "\n",
    "x = np.linspace(-np.pi, np.pi, 10000)\n",
    "\n",
    "y1 = x**2*np.sin(1/x)\n",
    "y2 = 2*x*np.sin(1/x) - np.cos(1/x)\n",
    "\n",
    "fig = plt.figure()\n",
    "plt.plot(x, y1, 'b', label=r'$f(x)=x^2\\sin(\\frac{1}{x})$')\n",
    "plt.plot(x, y2, 'g', label=r\"$f'(x)=2x\\sin(\\frac{1}{x})-\\cos(\\frac{1}{x})$\")\n",
    "plt.legend(loc='lower right', title='', frameon=True);"
   ]
  },
  {
   "cell_type": "markdown",
   "metadata": {},
   "source": [
    "***"
   ]
  },
  {
   "cell_type": "markdown",
   "metadata": {},
   "source": [
    "# $f(x)=x^3\\sin(\\frac{1}{x})$"
   ]
  },
  {
   "cell_type": "code",
   "execution_count": 12,
   "metadata": {
    "scrolled": false
   },
   "outputs": [
    {
     "data": {
      "application/vnd.jupyter.widget-view+json": {
       "model_id": "3f8e752383f24f8f85b07d3d9afea68a",
       "version_major": 2,
       "version_minor": 0
      },
      "text/plain": [
       "Canvas(toolbar=Toolbar(toolitems=[('Home', 'Reset original view', 'home', 'home'), ('Back', 'Back to previous …"
      ]
     },
     "metadata": {},
     "output_type": "display_data"
    }
   ],
   "source": [
    "x = np.linspace(-np.pi, np.pi, 10000)\n",
    "\n",
    "y1 = np.abs(x**3)\n",
    "y2 = x**3*np.sin(1/x)\n",
    "y3 = -np.abs(x**3)\n",
    "\n",
    "fig = plt.figure()\n",
    "plt.plot(x, y1, 'r', label=r'$f(x)=|x^3|$')\n",
    "plt.plot(x, y2, 'b', label=r'$f(x)=x^3\\sin(\\frac{1}{x})$')\n",
    "plt.plot(x, y3, 'g', label=r'$f(x)=-|x^3|$')\n",
    "plt.xlim(-0.2, 0.2)\n",
    "plt.ylim(-0.008, 0.008)\n",
    "plt.legend(loc='lower right', title='', frameon=True);"
   ]
  },
  {
   "cell_type": "code",
   "execution_count": 13,
   "metadata": {},
   "outputs": [
    {
     "data": {
      "image/png": "[encoded data removed]",
      "text/latex": [
       "$\\displaystyle 3 x^{2} \\sin{\\left(\\frac{1}{x} \\right)} - x \\cos{\\left(\\frac{1}{x} \\right)}$"
      ],
      "text/plain": [
       "   2    ⎛1⎞        ⎛1⎞\n",
       "3⋅x ⋅sin⎜─⎟ - x⋅cos⎜─⎟\n",
       "        ⎝x⎠        ⎝x⎠"
      ]
     },
     "execution_count": 13,
     "metadata": {},
     "output_type": "execute_result"
    }
   ],
   "source": [
    "# verify the derivative with sympy\n",
    "\n",
    "x = symbols('x')\n",
    "y = x**3 * sin(1/x)\n",
    "dy = Derivative(y, x).doit()\n",
    "dy"
   ]
  },
  {
   "cell_type": "code",
   "execution_count": 23,
   "metadata": {},
   "outputs": [
    {
     "data": {
      "application/vnd.jupyter.widget-view+json": {
       "model_id": "6f4cb783952f4c4faaf0aa057f17e115",
       "version_major": 2,
       "version_minor": 0
      },
      "text/plain": [
       "Canvas(toolbar=Toolbar(toolitems=[('Home', 'Reset original view', 'home', 'home'), ('Back', 'Back to previous …"
      ]
     },
     "metadata": {},
     "output_type": "display_data"
    },
    {
     "data": {
      "application/vnd.jupyter.widget-view+json": {
       "model_id": "e9fbbc2ce23744eda044ed57bf1fcdfc",
       "version_major": 2,
       "version_minor": 0
      },
      "text/plain": [
       "Canvas(toolbar=Toolbar(toolitems=[('Home', 'Reset original view', 'home', 'home'), ('Back', 'Back to previous …"
      ]
     },
     "metadata": {},
     "output_type": "display_data"
    }
   ],
   "source": [
    "# graph the function and its derivative\n",
    "# the function is vertically stretched by a factor of 30 in the second plot\n",
    "\n",
    "x = np.linspace(-np.pi, np.pi, 10000)\n",
    "\n",
    "y1 = x**3*np.sin(1/x)\n",
    "y2 = 3*x**2*np.sin(1/x) - x*np.cos(1/x)\n",
    "\n",
    "fig = plt.figure()\n",
    "plt.plot(x, y1, 'b', label=r'$f(x)=x^3\\sin(\\frac{1}{x})$')\n",
    "plt.plot(x, y2, 'g', label=r\"$f'(x)=3x^2\\sin(\\frac{1}{x})-x\\cos(\\frac{1}{x})$\")\n",
    "plt.legend(loc='lower right', title='', frameon=True);\n",
    "fig = plt.figure()\n",
    "plt.plot(x, 30*y1, 'b', label=r'$f(x)=x^3\\sin(\\frac{1}{x})$')\n",
    "plt.plot(x, y2, 'g', label=r\"$f'(x)=3x^2\\sin(\\frac{1}{x})-x\\cos(\\frac{1}{x})$\")\n",
    "plt.xlim(-0.5, 0.5)\n",
    "plt.ylim(-0.5, 0.5)\n",
    "plt.legend(loc='lower right', title='', frameon=True);"
   ]
  },
  {
   "cell_type": "markdown",
   "metadata": {},
   "source": [
    "***"
   ]
  },
  {
   "cell_type": "markdown",
   "metadata": {},
   "source": [
    "# $f(x)=x^4\\sin(\\frac{1}{x})$\n",
    ">$f'(x)=4x^3\\sin(\\frac{1}{x})-x^2\\cos(\\frac{1}{x})$"
   ]
  },
  {
   "cell_type": "code",
   "execution_count": 16,
   "metadata": {},
   "outputs": [
    {
     "data": {
      "application/vnd.jupyter.widget-view+json": {
       "model_id": "47576d4a2f4644fbbebc50d2c59e7497",
       "version_major": 2,
       "version_minor": 0
      },
      "text/plain": [
       "Canvas(toolbar=Toolbar(toolitems=[('Home', 'Reset original view', 'home', 'home'), ('Back', 'Back to previous …"
      ]
     },
     "metadata": {},
     "output_type": "display_data"
    }
   ],
   "source": [
    "x = np.linspace(-np.pi, np.pi, 10000)\n",
    "\n",
    "y10 = x**4\n",
    "y11 = x**4*np.sin(1/x)\n",
    "y12 = -x**4\n",
    "\n",
    "fig = plt.figure()\n",
    "plt.plot(x, y10, 'r', label=r'$f(x)=x^4$')\n",
    "plt.plot(x, y11, 'g', label=r'$f(x)=x^4\\sin(\\frac{1}{x})$')\n",
    "plt.plot(x, y12, 'b', label=r'$f(x)=-x^4$')\n",
    "plt.legend(loc='lower right', title='', frameon=True);"
   ]
  },
  {
   "cell_type": "code",
   "execution_count": 17,
   "metadata": {},
   "outputs": [
    {
     "data": {
      "image/png": "[encoded data removed]",
      "text/latex": [
       "$\\displaystyle 4 x^{3} \\sin{\\left(\\frac{1}{x} \\right)} - x^{2} \\cos{\\left(\\frac{1}{x} \\right)}$"
      ],
      "text/plain": [
       "   3    ⎛1⎞    2    ⎛1⎞\n",
       "4⋅x ⋅sin⎜─⎟ - x ⋅cos⎜─⎟\n",
       "        ⎝x⎠         ⎝x⎠"
      ]
     },
     "execution_count": 17,
     "metadata": {},
     "output_type": "execute_result"
    }
   ],
   "source": [
    "# verify the derivative with sympy\n",
    "\n",
    "x = symbols('x')\n",
    "y = x**4 * sin(1/x)\n",
    "dy = Derivative(y, x).doit()\n",
    "dy"
   ]
  }
 ],
 "metadata": {
  "kernelspec": {
   "display_name": "Python 3",
   "language": "python",
   "name": "python3"
  },
  "language_info": {
   "codemirror_mode": {
    "name": "ipython",
    "version": 3
   },
   "file_extension": ".py",
   "mimetype": "text/x-python",
   "name": "python",
   "nbconvert_exporter": "python",
   "pygments_lexer": "ipython3",
   "version": "3.9.0"
  }
 },
 "nbformat": 4,
 "nbformat_minor": 4
}
