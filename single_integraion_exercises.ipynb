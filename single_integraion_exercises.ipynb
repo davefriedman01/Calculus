{
 "cells": [
  {
   "cell_type": "code",
   "execution_count": 1,
   "metadata": {},
   "outputs": [],
   "source": [
    "%matplotlib widget\n",
    "#%matplotlib inline\n",
    "\n",
    "import numpy as np\n",
    "\n",
    "import matplotlib as mpl\n",
    "mpl.rcParams['text.usetex'] = True\n",
    "mpl.rcParams['figure.dpi'] = 200\n",
    "import matplotlib.pyplot as plt\n",
    "plt.style.use('ggplot')\n",
    "\n",
    "from scipy.integrate import quad"
   ]
  },
  {
   "cell_type": "markdown",
   "metadata": {},
   "source": [
    "---"
   ]
  },
  {
   "cell_type": "markdown",
   "metadata": {},
   "source": [
    "Approximate the area of the region under the graph of $$f(x)=\\frac{1}{x+2}$$ above the $x$-axis and over the interval $[-1,1]$ using __four__ rectangles of equal width (i.e., using 4 equal subintervals) and the __right endpoints__ as sample points."
   ]
  },
  {
   "cell_type": "markdown",
   "metadata": {},
   "source": [
    "---"
   ]
  },
  {
   "cell_type": "markdown",
   "metadata": {},
   "source": [
    "Subintervals: $[-1, -0.5], (-0.5, 0], (0, 0.5], (0.5, 1]$ each of width $0.5$\n",
    "\n",
    "Right endpoints: $f(1)=\\frac{1}{(1)+2}=\\frac{1}{3}$, $f(0.5)=\\frac{1}{(0.5)+2}=\\frac{2}{5}$, $f(0)=\\frac{1}{(0)+2}=\\frac{1}{2}$, $f(-0.5)=\\frac{1}{(-0.5)+2}=\\frac{2}{3}$<br>\n",
    "\n",
    "Approximation: $\\frac{1}{2}\\frac{1}{3}+\\frac{1}{2}\\frac{2}{5}+\\frac{1}{2}\\frac{1}{2}+\\frac{1}{2}\\frac{2}{3}=\\frac{1}{6}+\\frac{1}{5}+\\frac{1}{4}+\\frac{1}{3}=\\frac{10}{60}+\\frac{12}{60}+\\frac{15}{60}+\\frac{20}{60}=\\frac{57}{60}=0.95$\n",
    "\n",
    "Integral:\n",
    "$$\\int_{-1}^1\\frac{1}{2+x}dx$$\n",
    "$$u=2+x\\Rightarrow du=dx$$\n",
    "$$\\int_1^3\\frac{1}{u}du$$\n",
    "$$\\left[ln(u)\\right]_1^3=ln(3)-ln(1)=ln(3)$$"
   ]
  },
  {
   "cell_type": "code",
   "execution_count": 2,
   "metadata": {},
   "outputs": [
    {
     "name": "stderr",
     "output_type": "stream",
     "text": [
      "<ipython-input-2-8ce0dbd36c6c>:1: RuntimeWarning: divide by zero encountered in true_divide\n",
      "  f = lambda x: np.divide(1, x + 2)\n"
     ]
    }
   ],
   "source": [
    "f = lambda x: np.divide(1, x + 2)\n",
    "\n",
    "a, b = -1, 1\n",
    "N = 4\n",
    "n = 10 # use n*N+1 points to plot the function smoothly\n",
    "dx = (b-a)/N\n",
    "\n",
    "x = np.linspace(a, b, N+1)\n",
    "y = f(x)\n",
    "xx = np.linspace(-1+a, 1+b, n*N+1)\n",
    "yy = f(xx)\n",
    "\n",
    "x_right = x[1:]\n",
    "y_right = y[1:]"
   ]
  },
  {
   "cell_type": "code",
   "execution_count": 3,
   "metadata": {},
   "outputs": [
    {
     "name": "stdout",
     "output_type": "stream",
     "text": [
      "Right Riemann Sum\t0.9499999999999998\n",
      "Integral\t\t1.0986122886681096\n"
     ]
    }
   ],
   "source": [
    "# Verification\n",
    "\n",
    "right_riemann_sum = np.sum(f(x_right)*dx) # Compute the right Riemann sum\n",
    "i, e = quad(f, -1, 1)                     # Compute the definite integral\n",
    "\n",
    "print('Right Riemann Sum\\t{}'.format(right_riemann_sum))\n",
    "print('Integral\\t\\t{}'.format(i))"
   ]
  },
  {
   "cell_type": "code",
   "execution_count": 4,
   "metadata": {},
   "outputs": [
    {
     "data": {
      "application/vnd.jupyter.widget-view+json": {
       "model_id": "f71b38f05eb34dc793865f2c40de6d2f",
       "version_major": 2,
       "version_minor": 0
      },
      "text/plain": [
       "Canvas(toolbar=Toolbar(toolitems=[('Home', 'Reset original view', 'home', 'home'), ('Back', 'Back to previous …"
      ]
     },
     "metadata": {},
     "output_type": "display_data"
    }
   ],
   "source": [
    "#####\n",
    "#\n",
    "#  Plots\n",
    "#\n",
    "#####\n",
    "\n",
    "plt.figure(figsize=(6, 2));\n",
    "\n",
    "\n",
    "\n",
    "plt.subplot(121);\n",
    "plt.xticks(\n",
    "    [-1, -0.5, 0, 0.5, 1],\n",
    "    ['$-1$', '$-0.5$', '$0$', '$0.5$', '$1$'],\n",
    "    fontsize=4);\n",
    "plt.yticks(\n",
    "    [0, 1/3, 2/5, 1/2, 2/3],\n",
    "    ['$0$', '$1/3$', '$2/5$', '$1/2$', '$2/3$'],\n",
    "    fontsize=4);\n",
    "plt.xlim(-1.5, 1.5);\n",
    "plt.ylim(-0.5, 1.5);\n",
    "plt.title(r'Right Riemann Sum, $N={}$'.format(N), fontsize=5);\n",
    "plt.plot(xx, yy, 'b', linewidth=0.5);\n",
    "plt.plot(x_right, y_right, 'b.', markersize=3);\n",
    "plt.bar(x_right, y_right, width=-dx, alpha=0.2, align='edge', color='b', edgecolor='b');\n",
    "\n",
    "\n",
    "\n",
    "plt.subplot(122);\n",
    "plt.xticks(\n",
    "    [-1, -0.5, 0, 0.5, 1],\n",
    "    ['$-1$', '$-0.5$', '$0$', '$0.5$', '$1$'],\n",
    "    fontsize=4);\n",
    "plt.yticks(\n",
    "    [0, 1/3, 2/5, 1/2, 2/3],\n",
    "    ['$0$', '$1/3$', '$2/5$', '$1/2$', '$2/3$'],\n",
    "    fontsize=4);\n",
    "#plt.tick_params(\n",
    "#    axis=\"both\",\n",
    "#    which=\"both\",\n",
    "#    bottom=False,    \n",
    "#    labelbottom=True,\n",
    "#    left=False,\n",
    "#    labelleft=True);\n",
    "plt.xlim(-1.5, 1.5);\n",
    "plt.ylim(-0.5, 1.5);\n",
    "plt.title('Integral', fontsize=5);\n",
    "plt.plot(xx, yy, linewidth=0.5);\n",
    "\n",
    "X = np.linspace(-1, 1, 1001)\n",
    "Y = f(X)\n",
    "plt.fill_between(X, Y);"
   ]
  },
  {
   "cell_type": "markdown",
   "metadata": {},
   "source": [
    "---"
   ]
  },
  {
   "cell_type": "markdown",
   "metadata": {},
   "source": [
    "Let $$g(x)=\\int_{sin(2x)}^0(1-3t^2)dt$$ for $x\\in{(-\\infty,\\infty)}$. Find $g'(x)$."
   ]
  },
  {
   "cell_type": "markdown",
   "metadata": {},
   "source": [
    "---"
   ]
  },
  {
   "cell_type": "markdown",
   "metadata": {},
   "source": [
    "$$\n",
    "y=\\int_{sin(2x)}^0(1-3t^2)dt\n",
    "$$\n",
    "$$\n",
    "=-\\int_0^{sin(2x)}(1-3t^2)dt\n",
    "$$\n",
    "$$\n",
    "\\frac{dy}{dx}=\\frac{dy}{du}\\frac{du}{dx}\n",
    "$$\n",
    "$$\n",
    "u=sin(2x)\\Rightarrow\\frac{du}{dx}=2cos(2x)\n",
    "$$\n",
    "$$\n",
    "\\frac{dy}{du}=-\\int_0^u(1-3t^2)dt=-(1-3u^2)\\,\\text{by FTC}=(3u^2-1)\n",
    "$$\n",
    "$$\n",
    "\\frac{dy}{dx}=2cos(2x)(3sin^2(2x)-1)=6sin^2(2x)cos(2x)-2cos(2x)\n",
    "$$"
   ]
  },
  {
   "cell_type": "markdown",
   "metadata": {},
   "source": [
    "---"
   ]
  },
  {
   "cell_type": "markdown",
   "metadata": {},
   "source": [
    "Solve the initial value problem $$\\frac{dy}{dt}=\\frac{t}{3}+2e^{3t-9}\\,\\,\\,\\,\\,y(3)=4$$"
   ]
  },
  {
   "cell_type": "markdown",
   "metadata": {},
   "source": [
    "---"
   ]
  },
  {
   "cell_type": "markdown",
   "metadata": {},
   "source": [
    "$$dy=\\frac{t}{3}+2e^{3t-9}dt$$\n",
    "$$\\int dy=\\int\\left(\\frac{t}{3}+2e^{3t-9}\\right)dt$$\n",
    "$$y+C_1=\\frac{1}{3}\\int t\\,dt+2\\int e^{3t-9}dt=\\frac{1}{3}\\frac{t^2}{2}+C_2+2\\int e^{3t-9}dt$$\n",
    "$$u=3t-9\\Rightarrow du=3dt\\Rightarrow\\frac{1}{3}du=dt$$\n",
    "\n",
    "$$...+2\\int e^u\\frac{1}{3}du=\\,\\,\\,...+\\frac{2}{3}\\int e^udu=\\,\\,\\,...+\\frac{2}{3}e^u+C_3=\\,\\,\\,...+\\frac{2}{3}e^{3t-9}+C_3$$\n",
    "\n",
    "$$y+C_1=\\frac{t^2}{6}+C_2+\\frac{2}{3}e^{3t-9}+C_3\\,\\,\\,\\,\\,$$\n",
    "$$\\Rightarrow\\,\\,\\,\\,\\,y=\\frac{t^2}{6}+\\frac{2}{3}e^{3t-9}+(-C_1)+C_2+C_3=\\frac{t^2}{6}+\\frac{2}{3}e^{3t-9}+C\\,\\,\\,\\text{where}\\,\\,\\,C=(-C_1)+C_2+C_3$$\n",
    "$$y=\\frac{t^2}{6}+\\frac{2}{3}e^{3t-9}+C$$\n",
    "$$(4)=\\frac{(3)^2}{6}+\\frac{2}{3}e^{3(3)-9}+C$$\n",
    "$$C=4-\\frac{(3)^2}{6}-\\frac{2}{3}e^{3(3)-9}=4-\\frac{9}{6}-\\frac{2}{3}e^0=\\frac{24}{6}-\\frac{9}{6}-\\frac{4}{6}=\\frac{11}{6}$$"
   ]
  },
  {
   "cell_type": "code",
   "execution_count": 5,
   "metadata": {},
   "outputs": [
    {
     "data": {
      "application/vnd.jupyter.widget-view+json": {
       "model_id": "978c575ffffb4e4ea0ce0dfbf85a5af2",
       "version_major": 2,
       "version_minor": 0
      },
      "text/plain": [
       "Canvas(toolbar=Toolbar(toolitems=[('Home', 'Reset original view', 'home', 'home'), ('Back', 'Back to previous …"
      ]
     },
     "metadata": {},
     "output_type": "display_data"
    }
   ],
   "source": [
    "x2 = np.linspace(-5, 5, 101)\n",
    "dy2 = np.divide(x2, 3) + 2*np.exp(3*x2 - 9)\n",
    "y2 = np.divide(x2**2, 6) + (2/3)*np.exp(3*x2 - 9) + (11/6)\n",
    "\n",
    "plt.figure(figsize=(3, 2));\n",
    "plt.rcParams.update({'font.size': 4});\n",
    "plt.plot(x2, dy2);\n",
    "plt.plot(x2, y2);\n",
    "plt.ylim(-5, 5);"
   ]
  },
  {
   "cell_type": "markdown",
   "metadata": {},
   "source": [
    "---"
   ]
  },
  {
   "cell_type": "markdown",
   "metadata": {},
   "source": [
    "The graph of a function $y=f(x)$ for $0\\leq x\\leq 9$ is given below. Find the integral $$\\int_3^8f(x)dx$$"
   ]
  },
  {
   "cell_type": "markdown",
   "metadata": {},
   "source": [
    "---"
   ]
  },
  {
   "cell_type": "markdown",
   "metadata": {},
   "source": [
    "$$f(x)=\\left\\{\\begin{array}{ll}\n",
    "&-\\sqrt{9-(x-3)^2}\\,\\,\\,\\,\\,&0\\leq x\\leq6\\\\\n",
    "&2x-12&6\\lt x\n",
    "\\end{array}\\right.$$\n",
    "\n",
    "$$\\int_3^8f(x)dx=-\\int_3^6\\sqrt{9-(x-3)^2}dx+\\int_6^8(2x-12)dx=\\frac{9}{4}\\pi+4$$\n",
    "\n",
    "$$\\frac{1}{4}\\int_0^r2\\pi xdx=\\frac{\\pi}{4}\\int_0^r2xdx=\\frac{\\pi}{4}\\left[x^2\\right]_0^r=\\frac{1}{4}\\pi r^2=\\frac{1}{4}A_{circle}$$\n",
    "\n",
    "$$A_{triangle}=\\frac{1}{2}bh=\\frac{1}{2}(2)(4)=\\frac{1}{2}8=4$$\n",
    "\n",
    "$$\n",
    "-\\int_3^6\\sqrt{9-(x-3)^2}dx\n",
    "$$\n",
    "\n",
    "$$\n",
    "x=3cos(\\theta)\\Rightarrow dx=-3sin(\\theta)d\\theta\n",
    "$$\n",
    "\n",
    "$$\n",
    "\\int_{\\frac{\\pi}{2}}^0\\sqrt{9-(3cos(\\theta))^2}\\,\\,\\,(-3sin(\\theta))d\\theta\n",
    "$$\n",
    "\n",
    "$$\n",
    "=-3\\int_{\\frac{\\pi}{2}}^0\\sqrt{9-9cos^2(\\theta)}\\,\\,\\,sin(\\theta)d\\theta\n",
    "$$\n",
    "\n",
    "$$\n",
    "=3\\int_0^{\\frac{\\pi}{2}}\\sqrt{9-9cos^2(\\theta)}\\,\\,\\,sin(\\theta)d\\theta\n",
    "$$\n",
    "\n",
    "$$\n",
    "3\\int_0^{\\frac{\\pi}{2}}\\sqrt{9(1-cos^2(\\theta))}\\,\\,\\,sin(\\theta)d\\theta\n",
    "$$\n",
    "\n",
    "$$\n",
    "=3\\int_0^{\\frac{\\pi}{2}}3\\sqrt{1-cos^2(\\theta)}\\,\\,\\,sin(\\theta)d\\theta\n",
    "$$\n",
    "\n",
    "$$\n",
    "=9\\int_0^{\\frac{\\pi}{2}}\\sqrt{1-cos^2(\\theta)}\\,\\,\\,sin(\\theta)d\\theta\n",
    "$$\n",
    "\n",
    "$$\n",
    "9\\int_0^{\\frac{\\pi}{2}}\\sqrt{sin^2(\\theta)}\\,\\,\\,sin(\\theta)d\\theta\n",
    "$$\n",
    "\n",
    "$$\n",
    "=9\\int_0^{\\frac{\\pi}{2}}sin^2(\\theta)d\\theta\n",
    "$$\n",
    "\n",
    "$$\n",
    "=9\\int_0^{\\frac{\\pi}{2}}\\frac{1-cos(2\\theta)}{2}d\\theta\n",
    "$$\n",
    "\n",
    "$$\n",
    "=\\frac{9}{2}\\int_0^{\\frac{\\pi}{2}}1-cos(2\\theta)d\\theta\n",
    "$$\n",
    "\n",
    "$$\n",
    "\\frac{9}{2}\\left[\\int_0^{\\frac{\\pi}{2}}d\\theta-\\int_0^{\\frac{\\pi}{2}}cos(2\\theta)d\\theta\\right]\n",
    "$$\n",
    "\n",
    "$$\n",
    "=\\frac{9}{2}\\left[\\left[\\theta\\right]_0^{\\frac{\\pi}{2}}-\\left[\\frac{1}{2}sin(2\\theta)\\right]_0^{\\frac{\\pi}{2}}\\right]\n",
    "$$\n",
    "\n",
    "$$\n",
    "=\\frac{9}{2}\\left[\\left[\\theta\\right]_0^{\\frac{\\pi}{2}}-\\left[\\frac{1}{2}sin(2\\theta)\\right]_0^{\\frac{\\pi}{2}}\\right]\n",
    "$$\n",
    "\n",
    "$$\n",
    "=\\frac{9}{2}\\left[\\frac{\\pi}{2}-\\frac{1}{2}sin(\\pi)+\\frac{1}{2}sin(0)\\right]\n",
    "=\\frac{9}{4}\\pi\n",
    "$$\n",
    "\n",
    "$$\n",
    "\\int_6^8(2x-12)dx\n",
    "$$\n",
    "\n",
    "$$\n",
    "=\\int_6^82xdx-\\int_6^812dx\n",
    "$$\n",
    "\n",
    "$$\n",
    "=2\\int_6^8xdx-12\\int_6^8dx\n",
    "$$\n",
    "\n",
    "$$\n",
    "=2\\left[\\frac{1}{2}x^2\\right]_6^8-12\\left[x\\right]_6^8\n",
    "$$\n",
    "\n",
    "$$\n",
    "=2\\left(\\frac{1}{2}(8)^2-\\frac{1}{2}(6)^2\\right)-12((8)-(6))\n",
    "$$\n",
    "\n",
    "$$\n",
    "=64-36-96+72\n",
    "$$\n",
    "\n",
    "$$\n",
    "=4\n",
    "$$"
   ]
  },
  {
   "cell_type": "markdown",
   "metadata": {},
   "source": [
    "---"
   ]
  },
  {
   "cell_type": "markdown",
   "metadata": {},
   "source": [
    "Express the integral $$\\int_{\\frac{-\\pi}{6}}^{\\frac{\\pi}{3}}tan(x)dx$$ as a limit of the Riemann sum using $n$ subintervals of equal length and __right endpoints__ as sample points."
   ]
  },
  {
   "cell_type": "markdown",
   "metadata": {},
   "source": [
    "---"
   ]
  },
  {
   "cell_type": "markdown",
   "metadata": {},
   "source": [
    "$$\n",
    "\\int_{\\frac{-\\pi}{6}}^{\\frac{\\pi}{3}}tan(x)dx\n",
    "\\approx\\lim_{n\\rightarrow\\infty}\\sum_{i=1}^ntan(x_i^*)\\Delta x\\,\\,\\,\\text{where}\\,\\,\\,\\Delta x=\\left(\\frac{\\frac{\\pi}{3}-\\frac{-\\pi}{6}}{n}\\right)\\,\\,\\,\\text{and}\\,\\,\\,x_i^*=x_i\\in[x_{i-1},x_i]\n",
    "$$"
   ]
  },
  {
   "cell_type": "markdown",
   "metadata": {},
   "source": [
    "---"
   ]
  },
  {
   "cell_type": "markdown",
   "metadata": {},
   "source": [
    "__Problem 6.__ A particle moves in a straight line and its velocity at time $t$ is given by $$v(t)=t^2+t-2$$ in meters per second. Find the distance traveled during the time period $0\\leq t\\leq3$."
   ]
  },
  {
   "cell_type": "markdown",
   "metadata": {},
   "source": [
    "---"
   ]
  },
  {
   "cell_type": "markdown",
   "metadata": {},
   "source": [
    "Distance\n",
    "$$\n",
    "0=t^2+t-2\\Rightarrow 0=t+2,0=t-1\\Rightarrow t=-2,t=1\n",
    "$$\n",
    "$$\n",
    "\\int_0^3\\vert v(t)\\vert dt\n",
    "$$\n",
    "$$\n",
    "=\\int_0^1-v(t)dt+\\int_1^3v(t)dt\n",
    "$$\n",
    "$$\n",
    "=-\\int_0^1(t^2+t-2)dt+\\int_1^3(t^2+t-2)dt\n",
    "$$\n",
    "$$\n",
    "=-\\int_0^1t^2dt-\\int_0^1tdt+2\\int_0^1dt+\\int_1^3t^2dt+\\int_1^3tdt-2\\int_1^3dt\n",
    "$$\n",
    "$$\n",
    "=-\\left[\\frac{1}{3}t^3\\right]_0^1-\\left[\\frac{1}{2}t^2\\right]_0^1+\\left[2t\\right]_0^1+\\left[\\frac{1}{3}t^3\\right]_1^3+\\left[\\frac{1}{2}t^2\\right]_1^3+\\left[2t\\right]_1^3\n",
    "$$\n",
    "$$\n",
    "=-\\frac{1}{3}-\\frac{1}{2}+2+\\left(9-\\frac{1}{3}\\right)+\\left(\\frac{9}{2}-\\frac{1}{2}\\right)+(6-2)\n",
    "$$\n",
    "$$\n",
    "=-\\frac{2}{6}-\\frac{3}{6}+\\frac{12}{6}+\\frac{52}{6}+\\frac{48}{6}\n",
    "$$\n",
    "$$\n",
    "=\\frac{107}{6}\n",
    "$$"
   ]
  },
  {
   "cell_type": "markdown",
   "metadata": {},
   "source": [
    "(Displacement)\n",
    "$$\n",
    "v(t)=\\frac{dx}{dt}\\Rightarrow (t^2+t-2)dt=dx\n",
    "$$\n",
    "$$\n",
    "\\int_0^3(t^2+t-2)dt=\\int dx\n",
    "$$\n",
    "$$\n",
    "x=\\int_0^3t^2dt+\\int_0^3tdt-2\\int_0^3dt\n",
    "$$\n",
    "$$\n",
    "=\\left[\\frac{1}{3}t^3+\\frac{1}{2}t^2-2t\\right]_0^3\n",
    "$$\n",
    "$$\n",
    "=9+\\frac{9}{2}-6\n",
    "$$\n",
    "$$\n",
    "=\\frac{18}{2}+\\frac{9}{2}-\\frac{12}{2}\n",
    "$$\n",
    "$$\n",
    "=\\frac{15}{2}\n",
    "$$"
   ]
  },
  {
   "cell_type": "markdown",
   "metadata": {},
   "source": [
    "---"
   ]
  },
  {
   "cell_type": "markdown",
   "metadata": {},
   "source": [
    "Evaluate the following integral $$\\int_1^4\\frac{x^2-1}{\\sqrt{x}}dx$$"
   ]
  },
  {
   "cell_type": "markdown",
   "metadata": {},
   "source": [
    "---"
   ]
  },
  {
   "cell_type": "markdown",
   "metadata": {},
   "source": [
    "$$\n",
    "\\int_1^4x^{-\\frac{1}{2}}(x^2-1)dx\n",
    "$$\n",
    "$$\n",
    "=\\int_1^4(x^{\\frac{3}{2}}-x^{-\\frac{1}{2}})dx\n",
    "$$\n",
    "$$\n",
    "=\\int_1^4x^{\\frac{3}{2}}dx-\\int_1^4x^{-\\frac{1}{2}}dx\n",
    "$$\n",
    "$$\n",
    "=\\left[\\frac{2}{5}x^{\\frac{5}{2}}\\right]_1^4-\\left[2x^{\\frac{1}{2}}\\right]_1^4\n",
    "$$\n",
    "$$\n",
    "=\\frac{2}{5}(4)^{\\frac{5}{2}}-\\frac{2}{5}(1)^{\\frac{5}{2}}-(2(4)^{\\frac{1}{2}}-2(1)^{\\frac{1}{2}})\n",
    "$$\n",
    "$$\n",
    "=\\frac{2}{5}4^24^{\\frac{1}{2}}-\\frac{2}{5}-4+2\n",
    "$$\n",
    "$$\n",
    "=\\frac{62}{5}-2\n",
    "$$\n",
    "$$\n",
    "=\\frac{62}{5}-\\frac{10}{5}\n",
    "$$\n",
    "$$\n",
    "=\\frac{52}{5}\n",
    "$$"
   ]
  },
  {
   "cell_type": "markdown",
   "metadata": {},
   "source": [
    "---"
   ]
  },
  {
   "cell_type": "markdown",
   "metadata": {},
   "source": [
    "Assume that $f$ is an integrable function and $\\int_{\\frac{\\pi}{6}}^{-\\frac{\\pi}{4}}f(x)dx=\\frac{1}{2}$. Find $$\\int_{\\frac{\\pi}{6}}^{-\\frac{\\pi}{4}}\\left[\\frac{2}{\\sqrt{1-x^2}}+3f(x)\\right]dx$$"
   ]
  },
  {
   "cell_type": "markdown",
   "metadata": {},
   "source": [
    "---"
   ]
  },
  {
   "cell_type": "markdown",
   "metadata": {},
   "source": [
    "$$\n",
    "\\int_{\\frac{\\pi}{6}}^{-\\frac{\\pi}{4}}\\left[\\frac{2}{\\sqrt{1-x^2}}+3f(x)\\right]dx\n",
    "$$\n",
    "$$\n",
    "=2\\int_{\\frac{\\pi}{6}}^{-\\frac{\\pi}{4}}\\frac{1}{\\sqrt{1-x^2}}dx+3\\int_{\\frac{\\pi}{6}}^{-\\frac{\\pi}{4}}f(x)dx\n",
    "$$\n",
    "$$\n",
    "=2\\int_{\\frac{\\pi}{6}}^{-\\frac{\\pi}{4}}\\frac{1}{\\sqrt{1-x^2}}dx+\\frac{3}{2}\n",
    "$$\n",
    "$$\n",
    "=2\\left[arcsin(x)\\right]_{\\frac{\\pi}{6}}^{-\\frac{\\pi}{4}}+\\frac{3}{2}\n",
    "$$\n",
    "$$\n",
    "=2arcsin\\left(-\\frac{\\pi}{4}\\right)-2arcsin\\left(\\frac{\\pi}{6}\\right)+\\frac{3}{2}\n",
    "$$\n",
    "$$\n",
    "=-2arcsin\\left(\\frac{\\pi}{4}\\right)-2arcsin\\left(\\frac{\\pi}{6}\\right)+\\frac{3}{2}\n",
    "$$\n",
    "$$\n",
    "=-2\\left(arcsin\\left(\\frac{\\pi}{4}\\right)+arcsin\\left(\\frac{\\pi}{6}\\right)\\right)+\\frac{3}{2}\n",
    "$$"
   ]
  },
  {
   "cell_type": "markdown",
   "metadata": {},
   "source": [
    "---"
   ]
  },
  {
   "cell_type": "markdown",
   "metadata": {},
   "source": [
    "Evaluate the following integrals:\n",
    "$$\\text{(a)}\\,\\,\\,\\,\\,\\int\\frac{(5+\\sqrt{x})^{\\frac{1}{3}}}{\\sqrt{x}}dx$$\n",
    "$$\\text{(b)}\\,\\,\\,\\,\\,\\int\\frac{sin(4x)}{2+3cos(4x)}dx$$"
   ]
  },
  {
   "cell_type": "markdown",
   "metadata": {},
   "source": [
    "---"
   ]
  },
  {
   "cell_type": "markdown",
   "metadata": {},
   "source": [
    "$$\n",
    "\\int\\frac{(5+\\sqrt{x})^\\frac{1}{3}}{\\sqrt{x}}dx\n",
    "$$\n",
    "$$\n",
    "=\\int\\frac{(5+x^{\\frac{1}{2}})^\\frac{1}{3}}{x^{\\frac{1}{2}}}dx\n",
    "$$\n",
    "$$\n",
    "=\\int(5+x^{\\frac{1}{2}})^\\frac{1}{3}x^{-\\frac{1}{2}}dx\n",
    "$$\n",
    "$$\n",
    "u=5+x^{\\frac{1}{2}}\\Rightarrow du=\\frac{1}{2}x^{-\\frac{1}{2}}dx\\Rightarrow 2du=x^{-\\frac{1}{2}}dx\n",
    "$$\n",
    "$$\n",
    "=\\int u^{\\frac{1}{3}}2du\n",
    "$$\n",
    "$$\n",
    "=2\\int u^{\\frac{1}{3}}du\n",
    "$$\n",
    "$$\n",
    "=2\\left[\\frac{3}{4}u^{\\frac{4}{3}}+C\\right]\n",
    "$$\n",
    "$$\n",
    "=\\frac{3}{2}u^{\\frac{4}{3}}+C\n",
    "$$\n",
    "$$\n",
    "=\\frac{3}{2}(5+x^{\\frac{1}{2}})^{\\frac{4}{3}}+C\n",
    "$$"
   ]
  },
  {
   "cell_type": "markdown",
   "metadata": {},
   "source": [
    "---"
   ]
  },
  {
   "cell_type": "markdown",
   "metadata": {},
   "source": [
    "$$\n",
    "\\int\\frac{sin(4x)}{2+3cos(4x)}dx\n",
    "$$\n",
    "$$\n",
    "u=2+3cos(4x)\\Rightarrow du=-12sin(4x)dx\\Rightarrow -\\frac{1}{12}du=sin(4x)dx\n",
    "$$\n",
    "$$\n",
    "=\\int -\\frac{1}{12}\\frac{du}{u}\n",
    "$$\n",
    "$$\n",
    "=-\\frac{1}{12}\\int\\frac{du}{u}\n",
    "$$\n",
    "$$\n",
    "=-\\frac{1}{12}\\ln(\\vert u\\vert)+C\n",
    "$$\n",
    "$$\n",
    "=-\\frac{1}{12}\\ln(\\vert 2+3cos(4x)\\vert)+C\n",
    "$$"
   ]
  },
  {
   "cell_type": "code",
   "execution_count": 6,
   "metadata": {},
   "outputs": [
    {
     "data": {
      "application/vnd.jupyter.widget-view+json": {
       "model_id": "d590d907038740ad90c829aff4ff7013",
       "version_major": 2,
       "version_minor": 0
      },
      "text/plain": [
       "Canvas(toolbar=Toolbar(toolitems=[('Home', 'Reset original view', 'home', 'home'), ('Back', 'Back to previous …"
      ]
     },
     "metadata": {},
     "output_type": "display_data"
    }
   ],
   "source": [
    "x9b = np.linspace(-10, 10, 5001)\n",
    "y9b = np.sin(4*x9b)/(2+3*np.cos(4*x9b))\n",
    "\n",
    "# clip y-values that are greater than a threshold in order to deal with vertical asymptotes in the plot\n",
    "utol = 30\n",
    "ltol = -30\n",
    "y9b[y9b>utol] = np.inf\n",
    "y9b[y9b<ltol] = -np.inf\n",
    "\n",
    "plt.figure(figsize=(6, 2));\n",
    "\n",
    "plt.subplot(121);\n",
    "plt.plot(x9b, y9b, 'b', linewidth=0.5);\n",
    "plt.xlim([-5, 5]);\n",
    "plt.ylim([-5, 5]);\n",
    "plt.title(r'$f(x)=\\frac{sin(4x)}{2+3cos(4x)}$');\n",
    "\n",
    "plt.subplot(122);\n",
    "plt.plot(x9b, y9b, 'b', linewidth=0.5);\n",
    "plt.xlim([-1, 1]);\n",
    "plt.ylim([-1, 1]);\n",
    "plt.title(r'$f(x)=\\frac{sin(4x)}{2+3cos(4x)}$');"
   ]
  },
  {
   "cell_type": "markdown",
   "metadata": {},
   "source": [
    "---"
   ]
  }
 ],
 "metadata": {
  "kernelspec": {
   "display_name": "Python 3",
   "language": "python",
   "name": "python3"
  },
  "language_info": {
   "codemirror_mode": {
    "name": "ipython",
    "version": 3
   },
   "file_extension": ".py",
   "mimetype": "text/x-python",
   "name": "python",
   "nbconvert_exporter": "python",
   "pygments_lexer": "ipython3",
   "version": "3.9.0"
  }
 },
 "nbformat": 4,
 "nbformat_minor": 4
}
